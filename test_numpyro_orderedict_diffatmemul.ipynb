{
 "cells": [
  {
   "cell_type": "markdown",
   "id": "ad4333a6-f9a6-4393-8d53-74f075b2ade1",
   "metadata": {},
   "source": [
    "# MCMC to fit atmospheric parameters on measured air transmission\n",
    "\n",
    "Use ordered dict"
   ]
  },
  {
   "cell_type": "markdown",
   "id": "8a482af8-bdfd-4c0a-93c2-29140d7ceb5e",
   "metadata": {},
   "source": [
    "https://github.com/DifferentiableUniverseInitiative/jax-cosmo-paper/blob/master/notebooks/VectorizedNumPyro.ipynb"
   ]
  },
  {
   "cell_type": "code",
   "execution_count": null,
   "id": "a0eb9248-6249-4444-a7d4-abb31e610865",
   "metadata": {},
   "outputs": [],
   "source": [
    "from diffatmemulator.diffatmemulator import DiffAtmEmulator\n",
    "from diffatmemulator.diffatmemulator import Dict_Of_sitesAltitudes,Dict_Of_sitesPressures"
   ]
  },
  {
   "cell_type": "code",
   "execution_count": null,
   "id": "13689a94-bbbd-4604-9812-f37bd8446e18",
   "metadata": {},
   "outputs": [],
   "source": [
    "from collections import OrderedDict"
   ]
  },
  {
   "cell_type": "code",
   "execution_count": null,
   "id": "75cb1049-4aa6-4267-9c4d-ff892b8ccfb0",
   "metadata": {},
   "outputs": [],
   "source": [
    "from instrument.instrument import Hologram"
   ]
  },
  {
   "cell_type": "code",
   "execution_count": null,
   "id": "0abfbf7b-3d25-4061-b01c-1b88ef5fb996",
   "metadata": {},
   "outputs": [],
   "source": [
    "import numpy as np\n",
    "import jax\n",
    "import jax.numpy as jnp\n",
    "from jax.scipy.special import logsumexp\n",
    "jax.config.update(\"jax_enable_x64\", True)\n",
    "\n",
    "import numpyro\n",
    "from numpyro import optim\n",
    "from numpyro.diagnostics import print_summary\n",
    "import numpyro.distributions as dist\n",
    "from numpyro.distributions import constraints\n",
    "from numpyro.infer import MCMC, HMC, NUTS, SVI, Trace_ELBO\n",
    "from numpyro.infer.autoguide import AutoBNAFNormal, AutoMultivariateNormal\n",
    "from numpyro.infer.reparam import NeuTraReparam\n",
    "from numpyro.handlers import seed, trace, condition\n",
    "\n",
    "import matplotlib as mpl\n",
    "from matplotlib import pyplot as plt\n",
    "\n",
    "import corner\n",
    "import arviz as az\n",
    "mpl.rcParams['font.size'] = 15\n",
    "mpl.rcParams[\"figure.figsize\"] = [8, 8]"
   ]
  },
  {
   "cell_type": "code",
   "execution_count": null,
   "id": "686f274a-6c4e-4bd4-8bc4-45c3cd892dfd",
   "metadata": {},
   "outputs": [],
   "source": [
    "import os\n",
    "import jax\n",
    "import jax.numpy as jnp\n",
    "import numpyro\n",
    "import numpyro.distributions as dist"
   ]
  },
  {
   "cell_type": "code",
   "execution_count": null,
   "id": "c338c29a-64de-4be6-abc2-0ada85ff8018",
   "metadata": {},
   "outputs": [],
   "source": [
    "def plot_params_kde(samples,hdi_probs=[0.393, 0.865, 0.989], \n",
    "                    patName=None, fname=None, pcut=None,\n",
    "                   var_names=None, point_estimate=\"median\"):\n",
    "    \n",
    "    if pcut is not None:\n",
    "        low = pcut[0]\n",
    "        up  = pcut[1] \n",
    "        #keep only data in the [low, up] percentiles ex. 0.5, 99.5\n",
    "        samples={name:value[(value>np.percentile(value,low)) &  (value<np.percentile(value,up))] \\\n",
    "          for name, value in samples.items()}\n",
    "        len_min = np.min([len(value) for name, value in samples.items()])\n",
    "        len_max = np.max([len(value) for name, value in samples.items()])\n",
    "        if (len_max-len_min)>0.01*len_max:\n",
    "            print(f\"Warning: pcut leads to min/max spls size = {len_min}/{len_max}\")\n",
    "        samples = {name:value[:len_min] for name, value in samples.items()}\n",
    "    \n",
    "    axs= az.plot_pair(\n",
    "            samples,\n",
    "            var_names=var_names,\n",
    "            figsize=(10,10),\n",
    "            kind=\"kde\",\n",
    "    #        marginal_kwargs={\"plot_kwargs\": {\"lw\": 3, \"c\": \"b\"}},\n",
    "            kde_kwargs={\n",
    "#                \"hdi_probs\": [0.68, 0.9],  # Plot 68% and 90% HDI contours\n",
    "                \"hdi_probs\":hdi_probs,  # 1, 2 and 3 sigma contours\n",
    "                \"contour_kwargs\":{\"colors\":('r', 'green', 'blue'), \"linewidths\":3},\n",
    "                \"contourf_kwargs\":{\"alpha\":0},\n",
    "            },\n",
    "            point_estimate_kwargs={\"lw\": 3, \"c\": \"b\"},\n",
    "            marginals=True, textsize=20, point_estimate=point_estimate,\n",
    "        );\n",
    "    \n",
    "    plt.tight_layout()\n",
    "    \n",
    "    if patName is not None:\n",
    "        patName_patch = mpatches.Patch(color='b', label=patName)\n",
    "        axs[0,0].legend(handles=[patName_patch], fontsize=40, bbox_to_anchor=(1, 0.7));\n",
    "    if fname is not None:\n",
    "        plt.savefig(fname)\n",
    "        plt.close()"
   ]
  },
  {
   "cell_type": "markdown",
   "id": "519792bb-e535-45d6-8c92-17d5e11a2b69",
   "metadata": {},
   "source": [
    "# Instrument\n",
    "\n",
    "defines the properties of the instrument measurement. The detector consists in the CCD plate of the Auxtel telescope. The Hologram class allows to retrieve the correct wavelength sampling corresponding to the measurement of a spectrum. This wavelength sampling correspond to pixel size sampling."
   ]
  },
  {
   "cell_type": "code",
   "execution_count": null,
   "id": "1a0d5e9b-2cad-469e-9b9c-14f1e3cd2066",
   "metadata": {},
   "outputs": [],
   "source": [
    "h = Hologram(rebin=1)"
   ]
  },
  {
   "cell_type": "code",
   "execution_count": null,
   "id": "fb0dfc7f-94a9-49b3-861d-daf37ea31db8",
   "metadata": {},
   "outputs": [],
   "source": [
    "wls = h.get_wavelength_sample()"
   ]
  },
  {
   "cell_type": "markdown",
   "id": "d26eee32-9b2d-4a46-86b5-694dbb1b6a74",
   "metadata": {},
   "source": [
    "## Emulator"
   ]
  },
  {
   "cell_type": "code",
   "execution_count": null,
   "id": "3bf115f9-5276-46e6-a4d6-ea6cef42fb10",
   "metadata": {},
   "outputs": [],
   "source": [
    "obs_str = \"LSST\"\n",
    "\n",
    "emul1 =  DiffAtmEmulator(obs_str=obs_str)\n",
    "emul2 =  DiffAtmEmulator(obs_str=obs_str,pressure=800.)"
   ]
  },
  {
   "cell_type": "code",
   "execution_count": null,
   "id": "45f7da84-e150-48fc-823b-f09bdf0c33d7",
   "metadata": {},
   "outputs": [],
   "source": [
    "P1 = emul1.pressure\n",
    "P2 = emul2.pressure"
   ]
  },
  {
   "cell_type": "code",
   "execution_count": null,
   "id": "3db6fbf7-a17f-4366-8535-4db257f6131d",
   "metadata": {},
   "outputs": [],
   "source": [
    "transm1 = emul1.vect1d_Alltransparencies(wls,am=1,pwv=4.0,oz=400.,tau=0.1,beta=-1.2)\n",
    "transm2 = emul2.vect1d_Alltransparencies(wls,am=1,pwv=4.0,oz=400.,tau=0.1,beta=-1.2)"
   ]
  },
  {
   "cell_type": "code",
   "execution_count": null,
   "id": "3025e267-d044-4b04-aa63-cd4c5dac28e7",
   "metadata": {},
   "outputs": [],
   "source": [
    "fig,ax = plt.subplots(1,1,figsize=(6,3))\n",
    "ax.plot(wls,transm1,'b',label=f\"P = {P1:.1f} hPa\")\n",
    "ax.plot(wls,transm2,'r',label=f\"P = {P2:.1f} hPa\")\n",
    "ax.set_xlabel(\"$\\lambda$ (nm)\")\n",
    "ax.set_ylabel(\"transmission\")\n",
    "ax.set_title(\"mean air transparency\")\n",
    "ax.legend()"
   ]
  },
  {
   "cell_type": "code",
   "execution_count": null,
   "id": "4cbb7245-4009-4ae0-812c-92e3e931ad2e",
   "metadata": {},
   "outputs": [],
   "source": [
    "def mean_transm(x, params,airmass):\n",
    "    \"\"\" mean function of the model of transmission \n",
    "    :param x: set of wavelengths measured experimentaly (independent variable)  \n",
    "    :type x: float, in unit nm\n",
    "    \n",
    "    :param params: dictionnary of parameters to be fitted\n",
    "    :type params: float\n",
    "    ...\n",
    "    :raises [ErrorType]: [ErrorDescription]\n",
    "    ...\n",
    "    :return: return the transmission\n",
    "    :rtype: float\n",
    "\n",
    "    Assume the airmass is set to 1.0\n",
    "    \n",
    "    \"\"\"\n",
    "    pressure = params[\"P\"]\n",
    "    pwv  = params[\"pwv\"]\n",
    "    oz = params[\"oz\"]\n",
    "    tau =  params[\"tau\"]\n",
    "    beta =  params[\"beta\"]\n",
    "\n",
    "    airmass = airmass\n",
    "    wls = x\n",
    "\n",
    "    emul = DiffAtmEmulator(obs_str=obs_str,pressure=pressure)\n",
    "    transm= emul.vect1d_Alltransparencies(wls,am=airmass,pwv=pwv,\n",
    "                                          oz=oz,tau=tau,beta=beta)\n",
    "    \n",
    "    return transm"
   ]
  },
  {
   "cell_type": "code",
   "execution_count": null,
   "id": "b8cc0848-75b0-487c-8b94-e6691cd4f397",
   "metadata": {},
   "outputs": [],
   "source": [
    "rng_key = jax.random.PRNGKey(42)\n",
    "rng_key, rng_key0, rng_key1, rng_key2 = jax.random.split(rng_key, 4)"
   ]
  },
  {
   "cell_type": "code",
   "execution_count": null,
   "id": "811a0e75-2f35-4849-be0e-85f4410f021a",
   "metadata": {},
   "outputs": [],
   "source": [
    "sigma_obs=0.01 # 5 mmag accuracy"
   ]
  },
  {
   "cell_type": "code",
   "execution_count": null,
   "id": "dfeb2681-a980-4357-8d57-e48c5211ca68",
   "metadata": {},
   "outputs": [],
   "source": [
    "airmass = 1.0\n",
    "par_true=OrderedDict({\"P\":730.0, \"pwv\":4.0, \"oz\":400, \"tau\": 0.05, \"beta\": -1.2})"
   ]
  },
  {
   "cell_type": "code",
   "execution_count": null,
   "id": "e220546e-10d7-4b14-b737-f7286b6afeb0",
   "metadata": {},
   "outputs": [],
   "source": [
    "par_true"
   ]
  },
  {
   "cell_type": "code",
   "execution_count": null,
   "id": "e7f831a8-6013-4e2d-9bec-376bcd23c534",
   "metadata": {},
   "outputs": [],
   "source": [
    "TMes = mean_transm(wls,par_true,airmass) + sigma_obs * jax.random.normal(rng_key1,shape=wls.shape)"
   ]
  },
  {
   "cell_type": "code",
   "execution_count": null,
   "id": "50766b0c-dd26-4f63-93b2-06fe4b051edf",
   "metadata": {},
   "outputs": [],
   "source": [
    "fig,ax = plt.subplots(1,1,figsize=(10,3))\n",
    "ax.errorbar(wls,TMes,yerr=sigma_obs,fmt=\"o\",ms=1,color=\"k\",ecolor=\"r\",lw=1)\n",
    "ax.set_xlabel(\"$\\lambda$ (nm)\")\n",
    "ax.set_ylabel(\"transmission\")\n",
    "ax.legend()\n",
    "ax.grid();"
   ]
  },
  {
   "cell_type": "code",
   "execution_count": null,
   "id": "6a0273ce-9421-4d5c-a5f7-68b49f7d116b",
   "metadata": {},
   "outputs": [],
   "source": [
    "def model(wls,Tobs=None,\n",
    "          P_min=700.,pwv_min = 0.,oz_min = 0., tau_min=0.,beta_min=-3,\n",
    "          P_max=800.,pwv_max = 10.,oz_max = 550., tau_max=0.5,beta_max=0,\n",
    "          airmass=1,sigma= 0.01):\n",
    "    \n",
    "    # priors\n",
    "    pressure = numpyro.sample(\"P\", dist.Uniform(P_min,P_max))\n",
    "    pwv  = numpyro.sample(\"pwv\", dist.Uniform(pwv_min,pwv_max))\n",
    "    oz  = numpyro.sample(\"oz\", dist.Uniform(oz_min,oz_max))\n",
    "    tau= numpyro.sample(\"tau\", dist.Uniform(tau_min,tau_max))\n",
    "    beta= numpyro.sample(\"beta\", dist.Uniform(beta_min,beta_max))\n",
    "    \n",
    "    params = OrderedDict({\"P\":pressure, \"pwv\":pwv, \"oz\":oz, \"tau\":tau, \"beta\":beta})\n",
    "    mu = mean_transm(wls,params,airmass)\n",
    "    \n",
    "    with numpyro.plate(\"obs\", wls.shape[0]):  # les observables sont indépendantes\n",
    "        numpyro.sample('T', dist.Normal(mu, sigma), obs=Tobs)\n"
   ]
  },
  {
   "cell_type": "code",
   "execution_count": null,
   "id": "e5666b1b-c5df-4b51-9d29-6d01273a40db",
   "metadata": {},
   "outputs": [],
   "source": [
    "numpyro.render_model(model, model_args=(jnp.array([0.]),jnp.array([1.])),render_distributions=True)"
   ]
  },
  {
   "cell_type": "code",
   "execution_count": null,
   "id": "481d20e7-aa3d-4047-aab0-9b4dfe56d4fb",
   "metadata": {},
   "outputs": [],
   "source": []
  },
  {
   "cell_type": "code",
   "execution_count": null,
   "id": "132598f2-76dd-4c8c-a1cd-84afc61bffcc",
   "metadata": {},
   "outputs": [],
   "source": [
    "from numpyro.handlers import seed, trace, condition\n",
    "# So, let's generate the data at the fiducial parameters\n",
    "fiducial_model = condition(model, par_true)\n",
    "# Run the conditionned model (if not conditionned the priors are executed)\n",
    "trace_data = trace(seed(fiducial_model, jax.random.PRNGKey(42))).get_trace(wls, sigma=sigma_obs)"
   ]
  },
  {
   "cell_type": "code",
   "execution_count": null,
   "id": "7700442e-a664-4fa6-a614-940503ec5048",
   "metadata": {},
   "outputs": [],
   "source": [
    "#trace_data"
   ]
  },
  {
   "cell_type": "code",
   "execution_count": null,
   "id": "79bd1d5a-5373-4f43-b7e8-03bd03d21f6e",
   "metadata": {},
   "outputs": [],
   "source": [
    "TMes_bis = trace_data['T'][\"value\"]"
   ]
  },
  {
   "cell_type": "code",
   "execution_count": null,
   "id": "a1928498-b5cf-4784-97be-3a5ac5cfff28",
   "metadata": {},
   "outputs": [],
   "source": [
    "fig,ax = plt.subplots(1,1,figsize=(10,3))\n",
    "ax.errorbar(wls,TMes,yerr=sigma_obs,fmt='o',ms=1. ,linewidth=2, capsize=0, c='k', label=\"data\")\n",
    "ax.errorbar(wls,TMes_bis,yerr=sigma_obs, fmt='o', ms=1.,linewidth=2, capsize=0, c='r', label=\"data (bis)\")\n",
    "ax.set_xlabel(\"$\\lambda$ (nm)\")\n",
    "ax.set_ylabel(\"transmission\")\n",
    "ax.legend()\n",
    "ax.grid();"
   ]
  },
  {
   "cell_type": "code",
   "execution_count": null,
   "id": "3e9eafde-c091-4991-82f8-41189ce17aee",
   "metadata": {},
   "outputs": [],
   "source": [
    "# Run NUTS.\n",
    "kernel = NUTS(model, dense_mass=True, target_accept_prob=0.9,\n",
    "              init_strategy=numpyro.infer.init_to_median())\n",
    "num_samples = 5_000\n",
    "n_chains = 4\n",
    "mcmc = MCMC(kernel, num_warmup=1_000, num_samples=num_samples,  \n",
    "            num_chains=n_chains,\n",
    "            chain_method='vectorized',\n",
    "            progress_bar=True)\n",
    "mcmc.run(rng_key, wls=wls, Tobs=TMes,sigma=sigma_obs,extra_fields=('potential_energy',))\n",
    "#mcmc.run(rng_key, wls=wls, Tobs=TMes,sigma=sigma_obs)\n",
    "mcmc.print_summary()\n",
    "samples_nuts = mcmc.get_samples()"
   ]
  },
  {
   "cell_type": "code",
   "execution_count": null,
   "id": "a6805cee-689c-432c-9be2-8c21fbad8c1d",
   "metadata": {},
   "outputs": [],
   "source": [
    "az.ess(samples_nuts, relative=True)  # efficacité relative"
   ]
  },
  {
   "cell_type": "code",
   "execution_count": null,
   "id": "1a4afe54-adf1-4fe1-9ae1-6a9cc53cdc53",
   "metadata": {},
   "outputs": [],
   "source": [
    "data = az.from_numpyro(mcmc)\n",
    "az.plot_trace(data, compact=False);\n",
    "plt.tight_layout()"
   ]
  },
  {
   "cell_type": "code",
   "execution_count": null,
   "id": "0a88688e-d110-4e02-a86f-e9e63205eb15",
   "metadata": {},
   "outputs": [],
   "source": [
    "plot_params_kde(samples_nuts, pcut=[0.001,99.999], var_names=['P', 'pwv','oz', 'tau','beta'])"
   ]
  },
  {
   "cell_type": "code",
   "execution_count": null,
   "id": "cd6103fa-c188-4306-a1a2-ca6d4476a664",
   "metadata": {},
   "outputs": [],
   "source": [
    "wls_val = np.linspace(300.,1000,100)"
   ]
  },
  {
   "cell_type": "code",
   "execution_count": null,
   "id": "818a847b-98d5-4f61-b94f-dc879da079b7",
   "metadata": {},
   "outputs": [],
   "source": [
    "Ttrue_val = mean_transm(wls_val,par_true,airmass)"
   ]
  },
  {
   "cell_type": "code",
   "execution_count": null,
   "id": "aa196f23-f524-4b3a-82a3-f5743d78d12c",
   "metadata": {},
   "outputs": [],
   "source": [
    "func = jax.vmap(lambda x: mean_transm(wls_val,x,airmass))"
   ]
  },
  {
   "cell_type": "code",
   "execution_count": null,
   "id": "c49cfd83-5ef8-4258-8312-f9042df9edb1",
   "metadata": {},
   "outputs": [],
   "source": [
    "Tall_val= func(samples_nuts) "
   ]
  },
  {
   "cell_type": "code",
   "execution_count": null,
   "id": "fa6dd672-cf4c-47d1-a8dd-59c0240413f1",
   "metadata": {},
   "outputs": [],
   "source": [
    "Tmean_val = jnp.mean(Tall_val,axis=0)"
   ]
  },
  {
   "cell_type": "code",
   "execution_count": null,
   "id": "45094816-a1c3-4b38-8d60-f7805938c18e",
   "metadata": {},
   "outputs": [],
   "source": [
    "std_T_val = jnp.std(Tall_val,axis=0)"
   ]
  },
  {
   "cell_type": "code",
   "execution_count": null,
   "id": "759f02f7-871a-44ba-a99c-959427a44454",
   "metadata": {},
   "outputs": [],
   "source": [
    "fig,ax =plt.subplots(1,1,figsize=(10,4))\n",
    "ax.errorbar(wls,TMes,yerr=sigma_obs,fmt='o', ms=1,linewidth=1, capsize=0, c='k', label=\"data\")\n",
    "ax.plot(wls_val,Ttrue_val,c='k',label=\"true\")\n",
    "\n",
    "ax.fill_between(wls_val, Tmean_val-2*std_T_val, Tmean_val+2*std_T_val, \n",
    "                    color=\"lightblue\",label=r\"$2-\\sigma$\")\n",
    "ax.fill_between(wls_val, Tmean_val-std_T_val, Tmean_val+std_T_val, \n",
    "                    color=\"lightgray\",label=r\"$1-\\sigma$\")\n",
    "# plot mean prediction\n",
    "ax.plot(wls_val, Tmean_val, \"blue\", ls=\"--\", lw=2.0, label=\"mean\")\n",
    "\n",
    "\n",
    "ax.set_xlabel(\"$\\lambda$ (nm)\")\n",
    "ax.set_ylabel(\"transmission\")\n",
    "ax.legend()\n",
    "ax.grid();"
   ]
  },
  {
   "cell_type": "code",
   "execution_count": null,
   "id": "6f7ae1ff-f847-407f-a3ed-7228c419b717",
   "metadata": {},
   "outputs": [],
   "source": [
    "samples_nuts"
   ]
  },
  {
   "cell_type": "code",
   "execution_count": null,
   "id": "e813d4dd-1165-4342-b4d8-99d38401f9b2",
   "metadata": {},
   "outputs": [],
   "source": [
    "reordered_samples = OrderedDict()"
   ]
  },
  {
   "cell_type": "code",
   "execution_count": null,
   "id": "ab207c5e-d6d0-4b0d-aa55-de90bd734f10",
   "metadata": {},
   "outputs": [],
   "source": [
    "par_names = list(par_true.keys())\n",
    "par_names"
   ]
  },
  {
   "cell_type": "code",
   "execution_count": null,
   "id": "4b991152-6076-4a4c-a43b-3f8f796149c8",
   "metadata": {},
   "outputs": [],
   "source": [
    "for key in par_true.keys():\n",
    "    reordered_samples[key] = samples_nuts[key]\n",
    "    "
   ]
  },
  {
   "cell_type": "code",
   "execution_count": null,
   "id": "05ce2a5a-8389-4913-8afd-15dd4b46c5ae",
   "metadata": {},
   "outputs": [],
   "source": [
    "reordered_samples"
   ]
  },
  {
   "cell_type": "code",
   "execution_count": null,
   "id": "887864ea-834c-4b7b-8cf6-ee3946b8cf97",
   "metadata": {},
   "outputs": [],
   "source": [
    "nparams = len(reordered_samples)\n",
    "nparams"
   ]
  },
  {
   "cell_type": "code",
   "execution_count": null,
   "id": "5c84f7b5-9937-4397-bab6-c71c5b92d60c",
   "metadata": {},
   "outputs": [],
   "source": [
    "data = reordered_samples"
   ]
  },
  {
   "cell_type": "code",
   "execution_count": null,
   "id": "af5d6f1d-a2bb-4d9a-bd09-cac5d9e3639d",
   "metadata": {},
   "outputs": [],
   "source": [
    "import arviz.labels as azl\n",
    "\n",
    "labeller = azl.MapLabeller(var_name_map={\"P\": r\"$P$\", \n",
    "                                         \"pwv\":r\"$H_2O$\",\n",
    "                                         \"oz\":r\"$O_3$\",\n",
    "                                         \"tau\":r\"$\\tau$\",\n",
    "                                         \"beta\":r\"$\\beta$\" \n",
    "                                        })\n"
   ]
  },
  {
   "cell_type": "code",
   "execution_count": null,
   "id": "54efc1db-57fc-4ac5-ae7a-ccc06051d041",
   "metadata": {},
   "outputs": [],
   "source": [
    "ax=az.plot_pair(\n",
    "        data,\n",
    "        kind=\"kde\",\n",
    "        labeller=labeller,\n",
    "        marginal_kwargs={\"plot_kwargs\": {\"lw\":3, \"c\":\"blue\", \"ls\":\"-\"}},\n",
    "        kde_kwargs={\n",
    "            \"hdi_probs\": [0.3, 0.68, 0.9],  # Plot 30%, 68% and 90% HDI contours\n",
    "            \"contour_kwargs\":{\"colors\":None, \"cmap\":\"Blues\", \"linewidths\":3,\n",
    "                              \"linestyles\":\"-\"},\n",
    "            \"contourf_kwargs\":{\"alpha\":0.5},\n",
    "        },\n",
    "        point_estimate_kwargs={\"lw\": 3, \"c\": \"b\"},\n",
    "        marginals=True, textsize=50, point_estimate='median',\n",
    "    );\n",
    "\n",
    "# plot true parameter point\n",
    "for idy in range(nparams):\n",
    "    for idx in range(idy):\n",
    "        label_x = par_names[idx]\n",
    "        label_y = par_names[idy]\n",
    "        ax[idy,idx].scatter(par_true[label_x],par_true[label_y],c=\"r\",s=150,zorder=10)\n",
    "        \n",
    "\n",
    "for idx,name in enumerate(par_names):\n",
    "    ax[idx,idx].axvline(par_true[name],c='r',lw=3)\n",
    "    "
   ]
  }
 ],
 "metadata": {
  "kernelspec": {
   "display_name": "conda_py310",
   "language": "python",
   "name": "conda_py310"
  },
  "language_info": {
   "codemirror_mode": {
    "name": "ipython",
    "version": 3
   },
   "file_extension": ".py",
   "mimetype": "text/x-python",
   "name": "python",
   "nbconvert_exporter": "python",
   "pygments_lexer": "ipython3",
   "version": "3.10.12"
  }
 },
 "nbformat": 4,
 "nbformat_minor": 5
}
